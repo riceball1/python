{
 "cells": [
  {
   "attachments": {},
   "cell_type": "markdown",
   "metadata": {},
   "source": [
    "# Converting Hexedecimal to Decimal\n",
    "\n",
    "Hexadecimal or base \"16\" uses all of the numbers of 0 - 9, plus a few others to signify higher numbers.\n",
    "\n",
    "A = 10, B = 11, C = 12, D = 13, E = 14, F = 15\n",
    "\n",
    "Therefore, the number \"D\" in hexadecimal would be 13\n",
    "\n",
    "The number \"1A\" would be 26 in decimal. Just like we have the \"tens\" place in base 10, hexadecimal has the 16 place. So 1A would be 16 + 10 = 26."
   ]
  },
  {
   "cell_type": "code",
   "execution_count": null,
   "metadata": {},
   "outputs": [],
   "source": [
    "hexNumbers = {\n",
    "    '0': 0, '1': 1, '2': 2, '3': 3, '4': 4, '5': 5, '6': 6, '7': 7, '8': 8, '9': 9, 'A': 10, 'B': 11, 'C': 12, 'D': 13, 'E': 14, 'F': 15\n",
    "}\n",
    "\n",
    "def hexToDec(hexNum):\n",
    "    # check that hexNum is always a string\n",
    "    if not isinstance(hexNum, str):\n",
    "        return 'Please provide a string'\n",
    "    else:\n",
    "        # iterate over the string to see if its\n",
    "        # something that is within hexDecmials dictionary\n",
    "        for char in hexNum:\n",
    "            if char not in hexNumbers:\n",
    "                return None\n",
    "        length = len(hexNum)\n",
    "\n",
    "        if length == 3:\n",
    "            return hexNumbers[hexNum[0]] * 256 + hexNumbers[hexNum[1]] * 16 + hexNumbers[hexNum[2]]\n",
    "        elif length == 2:\n",
    "            return hexNumbers[hexNum[0]] * 16 + hexNumbers[hexNum[1]]\n",
    "        elif length == 1:\n",
    "            return hexNumbers[hexNum[0]]\n",
    "\n",
    "# test cases\n",
    "\n",
    "print(hexToDec('A')) # 10\n",
    "print(hexToDec('1B')) # 27\n",
    "print(hexToDec('A6G')) # None\n",
    "print(hexToDec('3C0')) # 960\n"
   ]
  }
 ],
 "metadata": {
  "kernelspec": {
   "display_name": "Python 3",
   "language": "python",
   "name": "python3"
  },
  "language_info": {
   "codemirror_mode": {
    "name": "ipython",
    "version": 3
   },
   "file_extension": ".py",
   "mimetype": "text/x-python",
   "name": "python",
   "nbconvert_exporter": "python",
   "pygments_lexer": "ipython3",
   "version": "3.9.9"
  },
  "orig_nbformat": 4
 },
 "nbformat": 4,
 "nbformat_minor": 2
}
